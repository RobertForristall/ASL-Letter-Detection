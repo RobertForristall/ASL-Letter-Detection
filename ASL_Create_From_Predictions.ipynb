{
 "cells": [
  {
   "cell_type": "markdown",
   "id": "b211b0c9",
   "metadata": {},
   "source": [
    "# Create annotations from predictions"
   ]
  },
  {
   "cell_type": "code",
   "execution_count": 2,
   "id": "85340d32",
   "metadata": {},
   "outputs": [],
   "source": [
    "import os\n",
    "import cv2\n",
    "import numpy as np\n",
    "import tensorflow as tf\n",
    "from matplotlib import pyplot as plt\n",
    "from object_detection.utils import label_map_util, visualization_utils, config_util\n",
    "from object_detection.builders import model_builder\n",
    "\n",
    "%matplotlib inline"
   ]
  },
  {
   "cell_type": "code",
   "execution_count": 3,
   "id": "79af1b9e",
   "metadata": {},
   "outputs": [],
   "source": [
    "paths ={\n",
    "    'pipeline_config': os.path.join('ASL_AI', 'models', 'ASL_prototype_labeling', 'pipeline.config'),\n",
    "    'checkpoint_path': os.path.join('ASL_AI', 'models', 'ASL_prototype_labeling'),\n",
    "    'label_map': os.path.join('ASL_AI', 'annotations', 'ASL_label_map.pbtxt'),\n",
    "    'images_path': os.path.join('Images', 'Captured_ASL', 'to_be_labeled')\n",
    "}\n",
    "\n",
    "if not os.path.exists(paths['images_path']):\n",
    "    if os.name == 'posix':\n",
    "        !mkdir -p {paths['images_path']}\n",
    "    if os.name == 'nt':\n",
    "        !mkdir {paths['images_path']}\n",
    "\n",
    "image_files = os.listdir(paths['images_path'])\n",
    "category_index = label_map_util.create_category_index_from_labelmap(paths['label_map']) \n",
    "configs = config_util.get_configs_from_pipeline_file(paths['pipeline_config'])\n",
    "detection_model = model_builder.build(model_config=configs['model'], is_training=False)\n",
    "\n",
    "ckpt = tf.compat.v2.train.Checkpoint(model=detection_model)\n",
    "ckpt.restore(os.path.join(paths['checkpoint_path'], 'ckpt-3')).expect_partial()\n",
    "\n",
    "@tf.function\n",
    "def detect_object(image):\n",
    "    image, shapes = detection_model.preprocess(image)\n",
    "    prediction_dict = detection_model.predict(image, shapes)\n",
    "    detections = detection_model.postprocess(prediction_dict, shapes)\n",
    "    return detections"
   ]
  },
  {
   "cell_type": "markdown",
   "id": "354ae674",
   "metadata": {},
   "source": [
    "## Function for creating Annotations"
   ]
  },
  {
   "cell_type": "markdown",
   "id": "b43df314",
   "metadata": {},
   "source": [
    "<annotation>\n",
    "\t<folder>rockerhorns</folder>\n",
    "\t<filename>rockerhorns0a6752a3-91fb-11ed-b261-ec2e98cc4096.jpg</filename>\n",
    "\t<path>C:\\Users\\redth\\Desktop\\Object Detection Tensorflow\\tensorflow\\workspace\\images\\colledtedimages\\rockerhorns\\rockerhorns0a6752a3-91fb-11ed-b261-ec2e98cc4096.jpg</path>\n",
    "\t<source>\n",
    "\t\t<database>Unknown</database>\n",
    "\t</source>\n",
    "\t<size>\n",
    "\t\t<width>640</width>\n",
    "\t\t<height>480</height>\n",
    "\t\t<depth>3</depth>\n",
    "\t</size>\n",
    "\t<segmented>0</segmented>\n",
    "\t<object>\n",
    "\t\t<name>RockerHorns</name>\n",
    "\t\t<pose>Unspecified</pose>\n",
    "\t\t<truncated>0</truncated>\n",
    "\t\t<difficult>0</difficult>\n",
    "\t\t<bndbox>\n",
    "\t\t\t<xmin>197</xmin>\n",
    "\t\t\t<ymin>151</ymin>\n",
    "\t\t\t<xmax>333</xmax>\n",
    "\t\t\t<ymax>354</ymax>\n",
    "\t\t</bndbox>\n",
    "\t</object>\n",
    "</annotation>"
   ]
  },
  {
   "cell_type": "code",
   "execution_count": 4,
   "id": "3a669897",
   "metadata": {},
   "outputs": [
    {
     "name": "stdout",
     "output_type": "stream",
     "text": [
      "{1: 'ASL_A', 2: 'ASL_B', 3: 'ASL_C', 4: 'ASL_D', 5: 'ASL_E', 6: 'ASL_F', 7: 'ASL_G', 8: 'ASL_H', 9: 'ASL_I', 10: 'ASL_J', 11: 'ASL_K', 12: 'ASL_L', 13: 'ASL_M', 14: 'ASL_N', 15: 'ASL_O', 16: 'ASL_P', 17: 'ASL_Q', 18: 'ASL_R', 19: 'ASL_S', 20: 'ASL_T', 21: 'ASL_U', 22: 'ASL_V', 23: 'ASL_W', 24: 'ASL_X', 25: 'ASL_Y', 26: 'ASL_Z'}\n"
     ]
    }
   ],
   "source": [
    "from string import ascii_uppercase\n",
    "label_map = {}\n",
    "counter = 1\n",
    "for char in ascii_uppercase:\n",
    "    label_map[counter] = 'ASL_'+char\n",
    "    counter += 1\n",
    "print(label_map)\n",
    "\n",
    "\n",
    "def pred_to_annotation(img_path, image_np, detections, classes):\n",
    "    filename = img_path.split('\\\\')[3]\n",
    "    path = img_path\n",
    "    width = image_np.shape[1]\n",
    "    height = image_np.shape[0]\n",
    "    depth = 3\n",
    "    object_name = label_map[classes + 1]\n",
    "    x_min=int(detections[0][1] * width)\n",
    "    y_min=int(detections[0][0] * height)\n",
    "    x_max=int(detections[0][3] * width)\n",
    "    y_max=int(detections[0][2] * height)\n",
    "    annotation = f\"\"\"<annotation>\n",
    "    \\t<folder>{object_name}</folder>\n",
    "    \\t<filename>{filename}</filename>\n",
    "    \\t<path>{path}</path>\n",
    "    \\t<source>\n",
    "    \\t\\t<database>Unknown</database>\n",
    "    \\t</source>\n",
    "    \\t<size>\n",
    "    \\t\\t<width>{width}</width>\n",
    "    \\t\\t<height>{height}</height>\n",
    "    \\t\\t<depth>{depth}</depth>\n",
    "    \\t</size>\n",
    "    \\t<segmented>0</segmented>\n",
    "    \\t<object>\n",
    "    \\t\\t<name>{object_name}</name>\n",
    "    \\t\\t<pose>Unspecified</pose>\n",
    "    \\t\\t<truncated>0</truncated>\n",
    "    \\t\\t<difficult>0</difficult>\n",
    "    \\t\\t<bndbox>\n",
    "    \\t\\t\\t<xmin>{x_min}</xmin>\n",
    "    \\t\\t\\t<ymin>{y_min}</ymin>\n",
    "    \\t\\t\\t<xmax>{x_max}</xmax>\n",
    "    \\t\\t\\t<ymax>{y_max}</ymax>\n",
    "    \\t\\t</bndbox>\n",
    "    \\t</object>\n",
    "    </annotation>\n",
    "    \"\"\"\n",
    "    \n",
    "    annotation_path = img_path.replace('.jpg', '.xml')\n",
    "    with open(annotation_path, 'w') as f:\n",
    "        f.write(annotation)"
   ]
  },
  {
   "cell_type": "code",
   "execution_count": 5,
   "id": "c2564b2e",
   "metadata": {},
   "outputs": [],
   "source": [
    "img_paths = [os.path.join(paths['images_path'],file) for file in image_files if file.endswith('.jpg')]\n",
    "for img_path in img_paths:\n",
    "\n",
    "    img = cv2.imread(img_path)\n",
    "    image_np = np.array(img)\n",
    "    input_tensor = tf.convert_to_tensor(np.expand_dims(image_np, 0), dtype=tf.float32)\n",
    "    detections = detect_object(input_tensor)\n",
    "    \n",
    "    num_detections = int(detections.pop('num_detections'))\n",
    "    detections = {key: value[0, :num_detections].numpy() for key, value in detections.items()}\n",
    "    detections['num_detections'] = num_detections\n",
    "    \n",
    "    detections['detection_classes'] = detections['detection_classes'].astype(np.int64)\n",
    "    \n",
    "    label_id_offset = 1\n",
    "    image_np_with_detections = image_np.copy()\n",
    "    \n",
    "    #print(detections['detection_boxes'][0])\n",
    "    \n",
    "    #visualization_utils.visualize_boxes_and_labels_on_image_array(\n",
    "    #    image_np_with_detections,\n",
    "    #    detections['detection_boxes'],\n",
    "    #    detections['detection_classes'] + label_id_offset,\n",
    "    #    detections['detection_scores'],\n",
    "    #    category_index,\n",
    "    #    use_normalized_coordinates=True,\n",
    "    #    max_boxes_to_draw=5,\n",
    "    #    min_score_thresh=.8,\n",
    "    #    agnostic_mode=False\n",
    "    #)\n",
    "    \n",
    "    #plt.imshow(cv2.cvtColor(image_np_with_detections, cv2.COLOR_BGR2RGB))\n",
    "    #plt.show()\n",
    "    pred_to_annotation(img_path, image_np, detections['detection_boxes'], detections['detection_classes'][0])"
   ]
  },
  {
   "cell_type": "code",
   "execution_count": null,
   "id": "87c38db9",
   "metadata": {},
   "outputs": [],
   "source": []
  }
 ],
 "metadata": {
  "kernelspec": {
   "display_name": "Python 3 (ipykernel)",
   "language": "python",
   "name": "python3"
  },
  "language_info": {
   "codemirror_mode": {
    "name": "ipython",
    "version": 3
   },
   "file_extension": ".py",
   "mimetype": "text/x-python",
   "name": "python",
   "nbconvert_exporter": "python",
   "pygments_lexer": "ipython3",
   "version": "3.8.12"
  }
 },
 "nbformat": 4,
 "nbformat_minor": 5
}
