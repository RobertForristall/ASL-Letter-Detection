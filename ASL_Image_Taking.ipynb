{
 "cells": [
  {
   "cell_type": "markdown",
   "id": "c42a37a3",
   "metadata": {},
   "source": [
    "# Script for taking and labeling images"
   ]
  },
  {
   "cell_type": "code",
   "execution_count": 1,
   "id": "4fb59f6b",
   "metadata": {},
   "outputs": [],
   "source": [
    "import cv2\n",
    "import os\n",
    "import uuid\n",
    "import time"
   ]
  },
  {
   "cell_type": "code",
   "execution_count": 21,
   "id": "be855a2f",
   "metadata": {},
   "outputs": [
    {
     "name": "stdout",
     "output_type": "stream",
     "text": [
      "['ASL_A', 'ASL_B', 'ASL_C', 'ASL_D', 'ASL_E', 'ASL_F', 'ASL_G', 'ASL_H', 'ASL_I', 'ASL_J', 'ASL_K', 'ASL_L', 'ASL_M', 'ASL_N', 'ASL_O', 'ASL_P', 'ASL_Q', 'ASL_R', 'ASL_S', 'ASL_T', 'ASL_U', 'ASL_V', 'ASL_W', 'ASL_X', 'ASL_Y', 'ASL_Z']\n"
     ]
    }
   ],
   "source": [
    "from string import ascii_uppercase\n",
    "labels = []\n",
    "for char in ascii_uppercase:\n",
    "    labels.append('ASL_' + char)\n",
    "print(labels)\n",
    "num_images = 12"
   ]
  },
  {
   "cell_type": "code",
   "execution_count": 32,
   "id": "33bcbcee",
   "metadata": {},
   "outputs": [],
   "source": [
    "#curr_set = labels[0:5]\n",
    "curr_set = ['ASL_Z']\n",
    "asl_image_path = os.path.join('Images', 'Captured_ASL')\n",
    "if not os.path.exists(asl_image_path):\n",
    "    if os.name == 'nt':\n",
    "        !mkdir {asl_image_path}\n",
    "for label in labels:\n",
    "    path = os.path.join(asl_image_path, label)\n",
    "    if not os.path.exists(path):\n",
    "        !mkdir {path}"
   ]
  },
  {
   "cell_type": "code",
   "execution_count": 33,
   "id": "2aea9829",
   "metadata": {},
   "outputs": [
    {
     "name": "stdout",
     "output_type": "stream",
     "text": [
      "Collecting ASL_Z Image Number: 0\n",
      "Collecting ASL_Z Image Number: 1\n",
      "Collecting ASL_Z Image Number: 2\n",
      "Collecting ASL_Z Image Number: 3\n",
      "Collecting ASL_Z Image Number: 4\n",
      "Collecting ASL_Z Image Number: 5\n",
      "Collecting ASL_Z Image Number: 6\n",
      "Collecting ASL_Z Image Number: 7\n",
      "Collecting ASL_Z Image Number: 8\n",
      "Collecting ASL_Z Image Number: 9\n",
      "Collecting ASL_Z Image Number: 10\n",
      "Collecting ASL_Z Image Number: 11\n"
     ]
    }
   ],
   "source": [
    "for label in curr_set:\n",
    "    \n",
    "    cap = cv2.VideoCapture(0)\n",
    "    \n",
    "    time.sleep(5)\n",
    "    for num in range(num_images):\n",
    "        print(f\"Collecting {label} Image Number: {num}\")\n",
    "        time.sleep(1)\n",
    "        ret, frame = cap.read()\n",
    "        img_name = os.path.join(asl_image_path, label, label+str(uuid.uuid1())+'.jpg')\n",
    "        \n",
    "        cv2.imwrite(img_name, frame)\n",
    "        cv2.imshow('frame', frame)\n",
    "        \n",
    "        time.sleep(3)\n",
    "        \n",
    "        if cv2.waitKey(1) & 0xFF == ord('q'):\n",
    "            break\n",
    "cap.release()\n",
    "cv2.destroyAllWindows()"
   ]
  },
  {
   "cell_type": "code",
   "execution_count": 11,
   "id": "1ef1de9c",
   "metadata": {},
   "outputs": [
    {
     "name": "stdout",
     "output_type": "stream",
     "text": [
      "Image:C:\\Users\\redth\\Desktop\\ODT\\Images\\Captured_ASL\\to_be_labeled\\ASL_Z23bf3c21-95e2-11ed-8dbf-ec2e98cc4096.jpg -> Annotation:C:/Users/redth/Desktop/ODT/Images/Captured_ASL/to_be_labeled\\ASL_Z23bf3c21-95e2-11ed-8dbf-ec2e98cc4096.xml\n",
      "Image:C:\\Users\\redth\\Desktop\\ODT\\Images\\Captured_ASL\\to_be_labeled\\ASL_Z23bf3c22-95e2-11ed-a658-ec2e98cc4096.jpg -> Annotation:C:/Users/redth/Desktop/ODT/Images/Captured_ASL/to_be_labeled\\ASL_Z23bf3c22-95e2-11ed-a658-ec2e98cc4096.xml\n",
      "Image:C:\\Users\\redth\\Desktop\\ODT\\Images\\Captured_ASL\\to_be_labeled\\ASL_Z23bf3c23-95e2-11ed-9539-ec2e98cc4096.jpg -> Annotation:C:/Users/redth/Desktop/ODT/Images/Captured_ASL/to_be_labeled\\ASL_Z23bf3c23-95e2-11ed-9539-ec2e98cc4096.xml\n",
      "Image:C:\\Users\\redth\\Desktop\\ODT\\Images\\Captured_ASL\\to_be_labeled\\ASL_Z23bf62e3-95e2-11ed-b3da-ec2e98cc4096.jpg -> Annotation:C:/Users/redth/Desktop/ODT/Images/Captured_ASL/to_be_labeled\\ASL_Z23bf62e3-95e2-11ed-b3da-ec2e98cc4096.xml\n",
      "Image:C:\\Users\\redth\\Desktop\\ODT\\Images\\Captured_ASL\\to_be_labeled\\ASL_Z23bf62e4-95e2-11ed-9d94-ec2e98cc4096.jpg -> Annotation:C:/Users/redth/Desktop/ODT/Images/Captured_ASL/to_be_labeled\\ASL_Z23bf62e4-95e2-11ed-9d94-ec2e98cc4096.xml\n",
      "Image:C:\\Users\\redth\\Desktop\\ODT\\Images\\Captured_ASL\\to_be_labeled\\ASL_Z23bf62e5-95e2-11ed-933d-ec2e98cc4096.jpg -> Annotation:C:/Users/redth/Desktop/ODT/Images/Captured_ASL/to_be_labeled\\ASL_Z23bf62e5-95e2-11ed-933d-ec2e98cc4096.xml\n",
      "Image:C:\\Users\\redth\\Desktop\\ODT\\Images\\Captured_ASL\\to_be_labeled\\ASL_Z23bf62e6-95e2-11ed-9774-ec2e98cc4096.jpg -> Annotation:C:/Users/redth/Desktop/ODT/Images/Captured_ASL/to_be_labeled\\ASL_Z23bf62e6-95e2-11ed-9774-ec2e98cc4096.xml\n",
      "Image:C:\\Users\\redth\\Desktop\\ODT\\Images\\Captured_ASL\\to_be_labeled\\ASL_Z23bf89d4-95e2-11ed-9236-ec2e98cc4096.jpg -> Annotation:C:/Users/redth/Desktop/ODT/Images/Captured_ASL/to_be_labeled\\ASL_Z23bf89d4-95e2-11ed-9236-ec2e98cc4096.xml\n",
      "Image:C:\\Users\\redth\\Desktop\\ODT\\Images\\Captured_ASL\\to_be_labeled\\ASL_Z23bf89d5-95e2-11ed-98a3-ec2e98cc4096.jpg -> Annotation:C:/Users/redth/Desktop/ODT/Images/Captured_ASL/to_be_labeled\\ASL_Z23bf89d5-95e2-11ed-98a3-ec2e98cc4096.xml\n",
      "Image:C:\\Users\\redth\\Desktop\\ODT\\Images\\Captured_ASL\\to_be_labeled\\ASL_Z23bf89d6-95e2-11ed-85cf-ec2e98cc4096.jpg -> Annotation:C:/Users/redth/Desktop/ODT/Images/Captured_ASL/to_be_labeled\\ASL_Z23bf89d6-95e2-11ed-85cf-ec2e98cc4096.xml\n",
      "Image:C:\\Users\\redth\\Desktop\\ODT\\Images\\Captured_ASL\\to_be_labeled\\ASL_Z23bfb0c2-95e2-11ed-9bef-ec2e98cc4096.jpg -> Annotation:C:/Users/redth/Desktop/ODT/Images/Captured_ASL/to_be_labeled\\ASL_Z23bfb0c2-95e2-11ed-9bef-ec2e98cc4096.xml\n",
      "Image:C:\\Users\\redth\\Desktop\\ODT\\Images\\Captured_ASL\\to_be_labeled\\ASL_Z23bfb0c3-95e2-11ed-a491-ec2e98cc4096.jpg -> Annotation:C:/Users/redth/Desktop/ODT/Images/Captured_ASL/to_be_labeled\\ASL_Z23bfb0c3-95e2-11ed-a491-ec2e98cc4096.xml\n",
      "Image:C:\\Users\\redth\\Desktop\\ODT\\Images\\Captured_ASL\\to_be_labeled\\ASL_Z23bfb0c4-95e2-11ed-a698-ec2e98cc4096.jpg -> Annotation:C:/Users/redth/Desktop/ODT/Images/Captured_ASL/to_be_labeled\\ASL_Z23bfb0c4-95e2-11ed-a698-ec2e98cc4096.xml\n",
      "Image:C:\\Users\\redth\\Desktop\\ODT\\Images\\Captured_ASL\\to_be_labeled\\ASL_Z23bfd7b2-95e2-11ed-ad34-ec2e98cc4096.jpg -> Annotation:C:/Users/redth/Desktop/ODT/Images/Captured_ASL/to_be_labeled\\ASL_Z23bfd7b2-95e2-11ed-ad34-ec2e98cc4096.xml\n",
      "Image:C:\\Users\\redth\\Desktop\\ODT\\Images\\Captured_ASL\\to_be_labeled\\ASL_Z23bfd7b3-95e2-11ed-8c55-ec2e98cc4096.jpg -> Annotation:C:/Users/redth/Desktop/ODT/Images/Captured_ASL/to_be_labeled\\ASL_Z23bfd7b3-95e2-11ed-8c55-ec2e98cc4096.xml\n",
      "Image:C:\\Users\\redth\\Desktop\\ODT\\Images\\Captured_ASL\\to_be_labeled\\ASL_Z23bfd7b5-95e2-11ed-95f8-ec2e98cc4096.jpg -> Annotation:C:/Users/redth/Desktop/ODT/Images/Captured_ASL/to_be_labeled\\ASL_Z23bfd7b5-95e2-11ed-95f8-ec2e98cc4096.xml\n",
      "Image:C:\\Users\\redth\\Desktop\\ODT\\Images\\Captured_ASL\\to_be_labeled\\ASL_Z23bffea0-95e2-11ed-8394-ec2e98cc4096.jpg -> Annotation:C:/Users/redth/Desktop/ODT/Images/Captured_ASL/to_be_labeled\\ASL_Z23bffea0-95e2-11ed-8394-ec2e98cc4096.xml\n",
      "Image:C:\\Users\\redth\\Desktop\\ODT\\Images\\Captured_ASL\\to_be_labeled\\ASL_Z23bffea1-95e2-11ed-88f8-ec2e98cc4096.jpg -> Annotation:C:/Users/redth/Desktop/ODT/Images/Captured_ASL/to_be_labeled\\ASL_Z23bffea1-95e2-11ed-88f8-ec2e98cc4096.xml\n",
      "Image:C:\\Users\\redth\\Desktop\\ODT\\Images\\Captured_ASL\\to_be_labeled\\ASL_Z23bffea2-95e2-11ed-aba4-ec2e98cc4096.jpg -> Annotation:C:/Users/redth/Desktop/ODT/Images/Captured_ASL/to_be_labeled\\ASL_Z23bffea2-95e2-11ed-aba4-ec2e98cc4096.xml\n",
      "Image:C:\\Users\\redth\\Desktop\\ODT\\Images\\Captured_ASL\\to_be_labeled\\ASL_Z23c0c147-95e2-11ed-84f3-ec2e98cc4096.jpg -> Annotation:C:/Users/redth/Desktop/ODT/Images/Captured_ASL/to_be_labeled\\ASL_Z23c0c147-95e2-11ed-84f3-ec2e98cc4096.xml\n",
      "Image:C:\\Users\\redth\\Desktop\\ODT\\Images\\Captured_ASL\\to_be_labeled\\ASL_Z23c0c149-95e2-11ed-8f77-ec2e98cc4096.jpg -> Annotation:C:/Users/redth/Desktop/ODT/Images/Captured_ASL/to_be_labeled\\ASL_Z23c0c149-95e2-11ed-8f77-ec2e98cc4096.xml\n",
      "Image:C:\\Users\\redth\\Desktop\\ODT\\Images\\Captured_ASL\\to_be_labeled\\ASL_Z23c0e837-95e2-11ed-b75e-ec2e98cc4096.jpg -> Annotation:C:/Users/redth/Desktop/ODT/Images/Captured_ASL/to_be_labeled\\ASL_Z23c0e837-95e2-11ed-b75e-ec2e98cc4096.xml\n",
      "Image:C:\\Users\\redth\\Desktop\\ODT\\Images\\Captured_ASL\\to_be_labeled\\ASL_Z23c0e838-95e2-11ed-9d2d-ec2e98cc4096.jpg -> Annotation:C:/Users/redth/Desktop/ODT/Images/Captured_ASL/to_be_labeled\\ASL_Z23c0e838-95e2-11ed-9d2d-ec2e98cc4096.xml\n",
      "Image:C:\\Users\\redth\\Desktop\\ODT\\Images\\Captured_ASL\\to_be_labeled\\ASL_Z23c0e839-95e2-11ed-bc2a-ec2e98cc4096.jpg -> Annotation:C:/Users/redth/Desktop/ODT/Images/Captured_ASL/to_be_labeled\\ASL_Z23c0e839-95e2-11ed-bc2a-ec2e98cc4096.xml\n",
      "Image:C:\\Users\\redth\\Desktop\\ODT\\Images\\Captured_ASL\\to_be_labeled\\ASL_Z23c1aae0-95e2-11ed-bc1e-ec2e98cc4096.jpg -> Annotation:C:/Users/redth/Desktop/ODT/Images/Captured_ASL/to_be_labeled\\ASL_Z23c1aae0-95e2-11ed-bc1e-ec2e98cc4096.xml\n",
      "Image:C:\\Users\\redth\\Desktop\\ODT\\Images\\Captured_ASL\\to_be_labeled\\ASL_Z23c1aae1-95e2-11ed-9760-ec2e98cc4096.jpg -> Annotation:C:/Users/redth/Desktop/ODT/Images/Captured_ASL/to_be_labeled\\ASL_Z23c1aae1-95e2-11ed-9760-ec2e98cc4096.xml\n",
      "Image:C:\\Users\\redth\\Desktop\\ODT\\Images\\Captured_ASL\\to_be_labeled\\ASL_Z23c1aae2-95e2-11ed-91cc-ec2e98cc4096.jpg -> Annotation:C:/Users/redth/Desktop/ODT/Images/Captured_ASL/to_be_labeled\\ASL_Z23c1aae2-95e2-11ed-91cc-ec2e98cc4096.xml\n",
      "Image:C:\\Users\\redth\\Desktop\\ODT\\Images\\Captured_ASL\\to_be_labeled\\ASL_Z23c1d1ce-95e2-11ed-b6db-ec2e98cc4096.jpg -> Annotation:C:/Users/redth/Desktop/ODT/Images/Captured_ASL/to_be_labeled\\ASL_Z23c1d1ce-95e2-11ed-b6db-ec2e98cc4096.xml\n",
      "Image:C:\\Users\\redth\\Desktop\\ODT\\Images\\Captured_ASL\\to_be_labeled\\ASL_Z23c1d1cf-95e2-11ed-b407-ec2e98cc4096.jpg -> Annotation:C:/Users/redth/Desktop/ODT/Images/Captured_ASL/to_be_labeled\\ASL_Z23c1d1cf-95e2-11ed-b407-ec2e98cc4096.xml\n",
      "Image:C:\\Users\\redth\\Desktop\\ODT\\Images\\Captured_ASL\\to_be_labeled\\ASL_Z23c1d1d0-95e2-11ed-bc78-ec2e98cc4096.jpg -> Annotation:C:/Users/redth/Desktop/ODT/Images/Captured_ASL/to_be_labeled\\ASL_Z23c1d1d0-95e2-11ed-bc78-ec2e98cc4096.xml\n",
      "Image:C:\\Users\\redth\\Desktop\\ODT\\Images\\Captured_ASL\\to_be_labeled\\ASL_Z23c1d1d0-95e2-11ed-bc78-ec2e98cc4096.jpg -> Annotation:C:/Users/redth/Desktop/ODT/Images/Captured_ASL/to_be_labeled\\ASL_Z23c1d1d0-95e2-11ed-bc78-ec2e98cc4096.xml\n",
      "Image:C:\\Users\\redth\\Desktop\\ODT\\Images\\Captured_ASL\\to_be_labeled\\ASL_Z23c2bb67-95e2-11ed-bec6-ec2e98cc4096.jpg -> Annotation:C:/Users/redth/Desktop/ODT/Images/Captured_ASL/to_be_labeled\\ASL_Z23c2bb67-95e2-11ed-bec6-ec2e98cc4096.xml\n",
      "Image:C:\\Users\\redth\\Desktop\\ODT\\Images\\Captured_ASL\\to_be_labeled\\ASL_Z23c2e256-95e2-11ed-9422-ec2e98cc4096.jpg -> Annotation:C:/Users/redth/Desktop/ODT/Images/Captured_ASL/to_be_labeled\\ASL_Z23c2e256-95e2-11ed-9422-ec2e98cc4096.xml\n",
      "Image:C:\\Users\\redth\\Desktop\\ODT\\Images\\Captured_ASL\\to_be_labeled\\ASL_Z23c04ca4-95e2-11ed-bbfa-ec2e98cc4096.jpg -> Annotation:C:/Users/redth/Desktop/ODT/Images/Captured_ASL/to_be_labeled\\ASL_Z23c04ca4-95e2-11ed-bbfa-ec2e98cc4096.xml\n",
      "Image:C:\\Users\\redth\\Desktop\\ODT\\Images\\Captured_ASL\\to_be_labeled\\ASL_Z23c04ca5-95e2-11ed-9797-ec2e98cc4096.jpg -> Annotation:C:/Users/redth/Desktop/ODT/Images/Captured_ASL/to_be_labeled\\ASL_Z23c04ca5-95e2-11ed-9797-ec2e98cc4096.xml\n",
      "Image:C:\\Users\\redth\\Desktop\\ODT\\Images\\Captured_ASL\\to_be_labeled\\ASL_Z23c04ca6-95e2-11ed-be7b-ec2e98cc4096.jpg -> Annotation:C:/Users/redth/Desktop/ODT/Images/Captured_ASL/to_be_labeled\\ASL_Z23c04ca6-95e2-11ed-be7b-ec2e98cc4096.xml\n",
      "Image:C:\\Users\\redth\\Desktop\\ODT\\Images\\Captured_ASL\\to_be_labeled\\ASL_Z23c09a58-95e2-11ed-817f-ec2e98cc4096.jpg -> Annotation:C:/Users/redth/Desktop/ODT/Images/Captured_ASL/to_be_labeled\\ASL_Z23c09a58-95e2-11ed-817f-ec2e98cc4096.xml\n",
      "Image:C:\\Users\\redth\\Desktop\\ODT\\Images\\Captured_ASL\\to_be_labeled\\ASL_Z23c10f1e-95e2-11ed-ac09-ec2e98cc4096.jpg -> Annotation:C:/Users/redth/Desktop/ODT/Images/Captured_ASL/to_be_labeled\\ASL_Z23c10f1e-95e2-11ed-ac09-ec2e98cc4096.xml\n",
      "Image:C:\\Users\\redth\\Desktop\\ODT\\Images\\Captured_ASL\\to_be_labeled\\ASL_Z23c10f1f-95e2-11ed-8e81-ec2e98cc4096.jpg -> Annotation:C:/Users/redth/Desktop/ODT/Images/Captured_ASL/to_be_labeled\\ASL_Z23c10f1f-95e2-11ed-8e81-ec2e98cc4096.xml\n",
      "Image:C:\\Users\\redth\\Desktop\\ODT\\Images\\Captured_ASL\\to_be_labeled\\ASL_Z23c10f20-95e2-11ed-932e-ec2e98cc4096.jpg -> Annotation:C:/Users/redth/Desktop/ODT/Images/Captured_ASL/to_be_labeled\\ASL_Z23c10f20-95e2-11ed-932e-ec2e98cc4096.xml\n",
      "Image:C:\\Users\\redth\\Desktop\\ODT\\Images\\Captured_ASL\\to_be_labeled\\ASL_Z23c15cfb-95e2-11ed-b489-ec2e98cc4096.jpg -> Annotation:C:/Users/redth/Desktop/ODT/Images/Captured_ASL/to_be_labeled\\ASL_Z23c15cfb-95e2-11ed-b489-ec2e98cc4096.xml\n",
      "Image:C:\\Users\\redth\\Desktop\\ODT\\Images\\Captured_ASL\\to_be_labeled\\ASL_Z23c15cfc-95e2-11ed-bcb7-ec2e98cc4096.jpg -> Annotation:C:/Users/redth/Desktop/ODT/Images/Captured_ASL/to_be_labeled\\ASL_Z23c15cfc-95e2-11ed-bcb7-ec2e98cc4096.xml\n",
      "Image:C:\\Users\\redth\\Desktop\\ODT\\Images\\Captured_ASL\\to_be_labeled\\ASL_Z23c183f0-95e2-11ed-93f9-ec2e98cc4096.jpg -> Annotation:C:/Users/redth/Desktop/ODT/Images/Captured_ASL/to_be_labeled\\ASL_Z23c183f0-95e2-11ed-93f9-ec2e98cc4096.xml\n",
      "Image:C:\\Users\\redth\\Desktop\\ODT\\Images\\Captured_ASL\\to_be_labeled\\ASL_Z23c183f1-95e2-11ed-b2ed-ec2e98cc4096.jpg -> Annotation:C:/Users/redth/Desktop/ODT/Images/Captured_ASL/to_be_labeled\\ASL_Z23c183f1-95e2-11ed-b2ed-ec2e98cc4096.xml\n",
      "Image:C:\\Users\\redth\\Desktop\\ODT\\Images\\Captured_ASL\\to_be_labeled\\ASL_Z23c183f2-95e2-11ed-a366-ec2e98cc4096.jpg -> Annotation:C:/Users/redth/Desktop/ODT/Images/Captured_ASL/to_be_labeled\\ASL_Z23c183f2-95e2-11ed-a366-ec2e98cc4096.xml\n",
      "Image:C:\\Users\\redth\\Desktop\\ODT\\Images\\Captured_ASL\\to_be_labeled\\ASL_Z23c246a0-95e2-11ed-9244-ec2e98cc4096.jpg -> Annotation:C:/Users/redth/Desktop/ODT/Images/Captured_ASL/to_be_labeled\\ASL_Z23c246a0-95e2-11ed-9244-ec2e98cc4096.xml\n",
      "Image:C:\\Users\\redth\\Desktop\\ODT\\Images\\Captured_ASL\\to_be_labeled\\ASL_Z23c0258d-95e2-11ed-bdc0-ec2e98cc4096.jpg -> Annotation:C:/Users/redth/Desktop/ODT/Images/Captured_ASL/to_be_labeled\\ASL_Z23c0258d-95e2-11ed-bdc0-ec2e98cc4096.xml\n",
      "Image:C:\\Users\\redth\\Desktop\\ODT\\Images\\Captured_ASL\\to_be_labeled\\ASL_Z23c0258e-95e2-11ed-adb1-ec2e98cc4096.jpg -> Annotation:C:/Users/redth/Desktop/ODT/Images/Captured_ASL/to_be_labeled\\ASL_Z23c0258e-95e2-11ed-adb1-ec2e98cc4096.xml\n",
      "Image:C:\\Users\\redth\\Desktop\\ODT\\Images\\Captured_ASL\\to_be_labeled\\ASL_Z23c0258f-95e2-11ed-b6f4-ec2e98cc4096.jpg -> Annotation:C:/Users/redth/Desktop/ODT/Images/Captured_ASL/to_be_labeled\\ASL_Z23c0258f-95e2-11ed-b6f4-ec2e98cc4096.xml\n",
      "Image:C:\\Users\\redth\\Desktop\\ODT\\Images\\Captured_ASL\\to_be_labeled\\ASL_Z23c0736a-95e2-11ed-acda-ec2e98cc4096.jpg -> Annotation:C:/Users/redth/Desktop/ODT/Images/Captured_ASL/to_be_labeled\\ASL_Z23c0736a-95e2-11ed-acda-ec2e98cc4096.xml\n",
      "Image:C:\\Users\\redth\\Desktop\\ODT\\Images\\Captured_ASL\\to_be_labeled\\ASL_Z23c0736b-95e2-11ed-b590-ec2e98cc4096.jpg -> Annotation:C:/Users/redth/Desktop/ODT/Images/Captured_ASL/to_be_labeled\\ASL_Z23c0736b-95e2-11ed-b590-ec2e98cc4096.xml\n",
      "Image:C:\\Users\\redth\\Desktop\\ODT\\Images\\Captured_ASL\\to_be_labeled\\ASL_Z23c13613-95e2-11ed-b7d5-ec2e98cc4096.jpg -> Annotation:C:/Users/redth/Desktop/ODT/Images/Captured_ASL/to_be_labeled\\ASL_Z23c13613-95e2-11ed-b7d5-ec2e98cc4096.xml\n",
      "Image:C:\\Users\\redth\\Desktop\\ODT\\Images\\Captured_ASL\\to_be_labeled\\ASL_Z23c33036-95e2-11ed-b2b4-ec2e98cc4096.jpg -> Annotation:C:/Users/redth/Desktop/ODT/Images/Captured_ASL/to_be_labeled\\ASL_Z23c33036-95e2-11ed-b2b4-ec2e98cc4096.xml\n",
      "Image:C:\\Users\\redth\\Desktop\\ODT\\Images\\Captured_ASL\\to_be_labeled\\ASL_Z23c33037-95e2-11ed-89c8-ec2e98cc4096.jpg -> Annotation:C:/Users/redth/Desktop/ODT/Images/Captured_ASL/to_be_labeled\\ASL_Z23c33037-95e2-11ed-89c8-ec2e98cc4096.xml\n",
      "Image:C:\\Users\\redth\\Desktop\\ODT\\Images\\Captured_ASL\\to_be_labeled\\ASL_Z23c33037-95e2-11ed-89c8-ec2e98cc4096.jpg -> Annotation:C:/Users/redth/Desktop/ODT/Images/Captured_ASL/to_be_labeled\\ASL_Z23c33037-95e2-11ed-89c8-ec2e98cc4096.xml\n",
      "Image:C:\\Users\\redth\\Desktop\\ODT\\Images\\Captured_ASL\\to_be_labeled\\ASL_Z23c33036-95e2-11ed-b2b4-ec2e98cc4096.jpg -> Annotation:C:/Users/redth/Desktop/ODT/Images/Captured_ASL/to_be_labeled\\ASL_Z23c33036-95e2-11ed-b2b4-ec2e98cc4096.xml\n",
      "Image:C:\\Users\\redth\\Desktop\\ODT\\Images\\Captured_ASL\\to_be_labeled\\ASL_Z23c33034-95e2-11ed-8560-ec2e98cc4096.jpg -> Annotation:C:/Users/redth/Desktop/ODT/Images/Captured_ASL/to_be_labeled\\ASL_Z23c33034-95e2-11ed-8560-ec2e98cc4096.xml\n",
      "Image:C:\\Users\\redth\\Desktop\\ODT\\Images\\Captured_ASL\\to_be_labeled\\ASL_Z23c30946-95e2-11ed-b70d-ec2e98cc4096.jpg -> Annotation:C:/Users/redth/Desktop/ODT/Images/Captured_ASL/to_be_labeled\\ASL_Z23c30946-95e2-11ed-b70d-ec2e98cc4096.xml\n",
      "Image:C:\\Users\\redth\\Desktop\\ODT\\Images\\Captured_ASL\\to_be_labeled\\ASL_Z23c30945-95e2-11ed-9f9c-ec2e98cc4096.jpg -> Annotation:C:/Users/redth/Desktop/ODT/Images/Captured_ASL/to_be_labeled\\ASL_Z23c30945-95e2-11ed-9f9c-ec2e98cc4096.xml\n",
      "Image:C:\\Users\\redth\\Desktop\\ODT\\Images\\Captured_ASL\\to_be_labeled\\ASL_Z23c30944-95e2-11ed-8552-ec2e98cc4096.jpg -> Annotation:C:/Users/redth/Desktop/ODT/Images/Captured_ASL/to_be_labeled\\ASL_Z23c30944-95e2-11ed-8552-ec2e98cc4096.xml\n",
      "Image:C:\\Users\\redth\\Desktop\\ODT\\Images\\Captured_ASL\\to_be_labeled\\ASL_Z23c0736b-95e2-11ed-b590-ec2e98cc4096.jpg -> Annotation:C:/Users/redth/Desktop/ODT/Images/Captured_ASL/to_be_labeled\\ASL_Z23c0736b-95e2-11ed-b590-ec2e98cc4096.xml\n",
      "Image:C:\\Users\\redth\\Desktop\\ODT\\Images\\Captured_ASL\\to_be_labeled\\ASL_Z23c0258f-95e2-11ed-b6f4-ec2e98cc4096.jpg -> Annotation:C:/Users/redth/Desktop/ODT/Images/Captured_ASL/to_be_labeled\\ASL_Z23c0258f-95e2-11ed-b6f4-ec2e98cc4096.xml\n",
      "Image:C:\\Users\\redth\\Desktop\\ODT\\Images\\Captured_ASL\\to_be_labeled\\ASL_Z23c0258e-95e2-11ed-adb1-ec2e98cc4096.jpg -> Annotation:C:/Users/redth/Desktop/ODT/Images/Captured_ASL/to_be_labeled\\ASL_Z23c0258e-95e2-11ed-adb1-ec2e98cc4096.xml\n",
      "Image:C:\\Users\\redth\\Desktop\\ODT\\Images\\Captured_ASL\\to_be_labeled\\ASL_Z23c0258d-95e2-11ed-bdc0-ec2e98cc4096.jpg -> Annotation:C:/Users/redth/Desktop/ODT/Images/Captured_ASL/to_be_labeled\\ASL_Z23c0258d-95e2-11ed-bdc0-ec2e98cc4096.xml\n",
      "Image:C:\\Users\\redth\\Desktop\\ODT\\Images\\Captured_ASL\\to_be_labeled\\ASL_Z23c246a0-95e2-11ed-9244-ec2e98cc4096.jpg -> Annotation:C:/Users/redth/Desktop/ODT/Images/Captured_ASL/to_be_labeled\\ASL_Z23c246a0-95e2-11ed-9244-ec2e98cc4096.xml\n",
      "Image:C:\\Users\\redth\\Desktop\\ODT\\Images\\Captured_ASL\\to_be_labeled\\ASL_Z23c183f1-95e2-11ed-b2ed-ec2e98cc4096.jpg -> Annotation:C:/Users/redth/Desktop/ODT/Images/Captured_ASL/to_be_labeled\\ASL_Z23c183f1-95e2-11ed-b2ed-ec2e98cc4096.xml\n",
      "Image:C:\\Users\\redth\\Desktop\\ODT\\Images\\Captured_ASL\\to_be_labeled\\ASL_Z23c183f0-95e2-11ed-93f9-ec2e98cc4096.jpg -> Annotation:C:/Users/redth/Desktop/ODT/Images/Captured_ASL/to_be_labeled\\ASL_Z23c183f0-95e2-11ed-93f9-ec2e98cc4096.xml\n",
      "Image:C:\\Users\\redth\\Desktop\\ODT\\Images\\Captured_ASL\\to_be_labeled\\ASL_Z23c15cfc-95e2-11ed-bcb7-ec2e98cc4096.jpg -> Annotation:C:/Users/redth/Desktop/ODT/Images/Captured_ASL/to_be_labeled\\ASL_Z23c15cfc-95e2-11ed-bcb7-ec2e98cc4096.xml\n",
      "Image:C:\\Users\\redth\\Desktop\\ODT\\Images\\Captured_ASL\\to_be_labeled\\ASL_Z23c15cfb-95e2-11ed-b489-ec2e98cc4096.jpg -> Annotation:C:/Users/redth/Desktop/ODT/Images/Captured_ASL/to_be_labeled\\ASL_Z23c15cfb-95e2-11ed-b489-ec2e98cc4096.xml\n",
      "Image:C:\\Users\\redth\\Desktop\\ODT\\Images\\Captured_ASL\\to_be_labeled\\ASL_Z23c10f20-95e2-11ed-932e-ec2e98cc4096.jpg -> Annotation:C:/Users/redth/Desktop/ODT/Images/Captured_ASL/to_be_labeled\\ASL_Z23c10f20-95e2-11ed-932e-ec2e98cc4096.xml\n",
      "Image:C:\\Users\\redth\\Desktop\\ODT\\Images\\Captured_ASL\\to_be_labeled\\ASL_Z23c10f1f-95e2-11ed-8e81-ec2e98cc4096.jpg -> Annotation:C:/Users/redth/Desktop/ODT/Images/Captured_ASL/to_be_labeled\\ASL_Z23c10f1f-95e2-11ed-8e81-ec2e98cc4096.xml\n",
      "Image:C:\\Users\\redth\\Desktop\\ODT\\Images\\Captured_ASL\\to_be_labeled\\ASL_Z23c10f1e-95e2-11ed-ac09-ec2e98cc4096.jpg -> Annotation:C:/Users/redth/Desktop/ODT/Images/Captured_ASL/to_be_labeled\\ASL_Z23c10f1e-95e2-11ed-ac09-ec2e98cc4096.xml\n",
      "Image:C:\\Users\\redth\\Desktop\\ODT\\Images\\Captured_ASL\\to_be_labeled\\ASL_Z23c09a58-95e2-11ed-817f-ec2e98cc4096.jpg -> Annotation:C:/Users/redth/Desktop/ODT/Images/Captured_ASL/to_be_labeled\\ASL_Z23c09a58-95e2-11ed-817f-ec2e98cc4096.xml\n",
      "Image:C:\\Users\\redth\\Desktop\\ODT\\Images\\Captured_ASL\\to_be_labeled\\ASL_Z23c04ca4-95e2-11ed-bbfa-ec2e98cc4096.jpg -> Annotation:C:/Users/redth/Desktop/ODT/Images/Captured_ASL/to_be_labeled\\ASL_Z23c04ca4-95e2-11ed-bbfa-ec2e98cc4096.xml\n",
      "Image:C:\\Users\\redth\\Desktop\\ODT\\Images\\Captured_ASL\\to_be_labeled\\ASL_Z23c2e259-95e2-11ed-91cd-ec2e98cc4096.jpg -> Annotation:C:/Users/redth/Desktop/ODT/Images/Captured_ASL/to_be_labeled\\ASL_Z23c2e259-95e2-11ed-91cd-ec2e98cc4096.xml\n",
      "Image:C:\\Users\\redth\\Desktop\\ODT\\Images\\Captured_ASL\\to_be_labeled\\ASL_Z23c2e258-95e2-11ed-a9b8-ec2e98cc4096.jpg -> Annotation:C:/Users/redth/Desktop/ODT/Images/Captured_ASL/to_be_labeled\\ASL_Z23c2e258-95e2-11ed-a9b8-ec2e98cc4096.xml\n",
      "Image:C:\\Users\\redth\\Desktop\\ODT\\Images\\Captured_ASL\\to_be_labeled\\ASL_Z23c2e257-95e2-11ed-98b2-ec2e98cc4096.jpg -> Annotation:C:/Users/redth/Desktop/ODT/Images/Captured_ASL/to_be_labeled\\ASL_Z23c2e257-95e2-11ed-98b2-ec2e98cc4096.xml\n",
      "Image:C:\\Users\\redth\\Desktop\\ODT\\Images\\Captured_ASL\\to_be_labeled\\ASL_Z23c2e256-95e2-11ed-9422-ec2e98cc4096.jpg -> Annotation:C:/Users/redth/Desktop/ODT/Images/Captured_ASL/to_be_labeled\\ASL_Z23c2e256-95e2-11ed-9422-ec2e98cc4096.xml\n",
      "Image:C:\\Users\\redth\\Desktop\\ODT\\Images\\Captured_ASL\\to_be_labeled\\ASL_Z23c2bb67-95e2-11ed-bec6-ec2e98cc4096.jpg -> Annotation:C:/Users/redth/Desktop/ODT/Images/Captured_ASL/to_be_labeled\\ASL_Z23c2bb67-95e2-11ed-bec6-ec2e98cc4096.xml\n",
      "Image:C:\\Users\\redth\\Desktop\\ODT\\Images\\Captured_ASL\\to_be_labeled\\ASL_Z23c1d1d0-95e2-11ed-bc78-ec2e98cc4096.jpg -> Annotation:C:/Users/redth/Desktop/ODT/Images/Captured_ASL/to_be_labeled\\ASL_Z23c1d1d0-95e2-11ed-bc78-ec2e98cc4096.xml\n",
      "Image:C:\\Users\\redth\\Desktop\\ODT\\Images\\Captured_ASL\\to_be_labeled\\ASL_Z23c1d1cf-95e2-11ed-b407-ec2e98cc4096.jpg -> Annotation:C:/Users/redth/Desktop/ODT/Images/Captured_ASL/to_be_labeled\\ASL_Z23c1d1cf-95e2-11ed-b407-ec2e98cc4096.xml\n",
      "Image:C:\\Users\\redth\\Desktop\\ODT\\Images\\Captured_ASL\\to_be_labeled\\ASL_Z23c1d1ce-95e2-11ed-b6db-ec2e98cc4096.jpg -> Annotation:C:/Users/redth/Desktop/ODT/Images/Captured_ASL/to_be_labeled\\ASL_Z23c1d1ce-95e2-11ed-b6db-ec2e98cc4096.xml\n",
      "Image:C:\\Users\\redth\\Desktop\\ODT\\Images\\Captured_ASL\\to_be_labeled\\ASL_Z23c1aae0-95e2-11ed-bc1e-ec2e98cc4096.jpg -> Annotation:C:/Users/redth/Desktop/ODT/Images/Captured_ASL/to_be_labeled\\ASL_Z23c1aae0-95e2-11ed-bc1e-ec2e98cc4096.xml\n",
      "Image:C:\\Users\\redth\\Desktop\\ODT\\Images\\Captured_ASL\\to_be_labeled\\ASL_Z23c0e839-95e2-11ed-bc2a-ec2e98cc4096.jpg -> Annotation:C:/Users/redth/Desktop/ODT/Images/Captured_ASL/to_be_labeled\\ASL_Z23c0e839-95e2-11ed-bc2a-ec2e98cc4096.xml\n"
     ]
    }
   ],
   "source": [
    "labelimg_path = os.path.join('tensorflow', 'labelimg')\n",
    "!cd {labelimg_path} && python labelImg.py"
   ]
  },
  {
   "cell_type": "code",
   "execution_count": null,
   "id": "2e2028d6",
   "metadata": {},
   "outputs": [],
   "source": []
  }
 ],
 "metadata": {
  "kernelspec": {
   "display_name": "Python 3 (ipykernel)",
   "language": "python",
   "name": "python3"
  },
  "language_info": {
   "codemirror_mode": {
    "name": "ipython",
    "version": 3
   },
   "file_extension": ".py",
   "mimetype": "text/x-python",
   "name": "python",
   "nbconvert_exporter": "python",
   "pygments_lexer": "ipython3",
   "version": "3.8.12"
  }
 },
 "nbformat": 4,
 "nbformat_minor": 5
}
